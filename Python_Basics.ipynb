{
  "nbformat": 4,
  "nbformat_minor": 0,
  "metadata": {
    "colab": {
      "provenance": []
    },
    "kernelspec": {
      "name": "python3",
      "display_name": "Python 3"
    },
    "language_info": {
      "name": "python"
    }
  },
  "cells": [
    {
      "cell_type": "code",
      "source": [],
      "metadata": {
        "id": "peqSoBO6wN28"
      },
      "execution_count": null,
      "outputs": []
    },
    {
      "cell_type": "markdown",
      "source": [
        "# PYTHON BACISC QUESTIONS"
      ],
      "metadata": {
        "id": "Br4OZQLj-lLQ"
      }
    },
    {
      "cell_type": "markdown",
      "source": [
        "1. What is Python, and why is it popular?\n",
        "   -Python is a high-level, general-purpose programming language that is widely used for building applications, data analysis, machine learning, automation, web development, and more.\n"
      ],
      "metadata": {
        "id": "7OxxEKpp-1eX"
      }
    },
    {
      "cell_type": "markdown",
      "source": [
        "2.  What is an interpreter in Python?\n",
        "    - In Python, an interpreter is a program that executes Python code line by line instead of compiling the whole program into machine code first.\n"
      ],
      "metadata": {
        "id": "GE6gZ4xn_R-o"
      }
    },
    {
      "cell_type": "markdown",
      "source": [
        "3. What are pre-defined keywords in Python?\n",
        "   - In Python, pre-defined keywords are special reserved words that have a fixed meaning and purpose in the language. You cannot use them as variable names, function names, or identifiers because Python uses them to define its syntax and structure.\n"
      ],
      "metadata": {
        "id": "42caasoS_6h2"
      }
    },
    {
      "cell_type": "markdown",
      "source": [
        "4. Can keywords be used as variable names?\n",
        "   - No, keywords cannot be used as variable names in Python.\n"
      ],
      "metadata": {
        "id": "Rj_NAtQvAXxU"
      }
    },
    {
      "cell_type": "markdown",
      "source": [
        "5. What is mutability in Python?\n",
        "  - In Python, mutability refers to whether the value of an object can be changed after it is created.\n"
      ],
      "metadata": {
        "id": "4Kx5BdspAoFB"
      }
    },
    {
      "cell_type": "markdown",
      "source": [
        "6. Why are lists mutable, but tuples are immutable?\n",
        "  - A list is meant to store a collection of items that might need to be changed, added, or removed.\n",
        "  -A tuple is meant to represent a fixed collection of items, like coordinates (x, y), or settings that shouldn't be changed.\n"
      ],
      "metadata": {
        "id": "0cdTxt1-A0Zq"
      }
    },
    {
      "cell_type": "markdown",
      "source": [
        "7. What is the difference between “==” and “is” operators in Python?\n",
        "\n",
        "  - == (Equality Operator)\n",
        "  - Checks if the values of two objects are the same.\n",
        "  - Doesn't matter if they are stored at different memory locations.\n",
        "\n",
        "  -is (Identity Operator)\n",
        "  -Checks if two objects are the same object in memory (i.e., same reference).\n",
        "  -Even if two objects look the same, if they are stored separately, is will be False.\n"
      ],
      "metadata": {
        "id": "fbLfkcRSBXj5"
      }
    },
    {
      "cell_type": "markdown",
      "source": [
        "8. What are logical operators in Python?\n",
        "   - In Python, logical operators are used to combine conditional statements and return either True or False. They work with Boolean values (True / False).\n"
      ],
      "metadata": {
        "id": "jXfu5JekCWZ7"
      }
    },
    {
      "cell_type": "markdown",
      "source": [
        "9. What is type casting in Python ?\n",
        "   - In Python, type casting means changing the data type of a value into another type.\n"
      ],
      "metadata": {
        "id": "b_N_Ie5_Coky"
      }
    },
    {
      "cell_type": "markdown",
      "source": [
        "10. What is the difference between implicit and explicit type casting?  \n",
        "   - Implicit = automatic, safe conversion (no data loss).\n",
        "   - Explicit = manual conversion using functions, but may cause data loss."
      ],
      "metadata": {
        "id": "lyD118anDNP5"
      }
    },
    {
      "cell_type": "markdown",
      "source": [
        "11. What is the purpose of conditional statements in Python?\n",
        "   - In Python, conditional statements are used to make decisions in your program they allow your code to execute different actions based on certain conditions.\n"
      ],
      "metadata": {
        "id": "pvkWST5qEBR7"
      }
    },
    {
      "cell_type": "markdown",
      "source": [
        "12. How does the elif statement work?\n",
        "  - In Python, the elif statement is used to check multiple conditions sequentially after an initial if statement.\n"
      ],
      "metadata": {
        "id": "wIg-ZlN-E0mV"
      }
    },
    {
      "cell_type": "markdown",
      "source": [
        "13. What is the difference between for and while loops?\n",
        "   - for loops:\n",
        "   - Iteration stops after going through all items in the sequence.\n",
        "   - while loops:\n",
        "   - Runs until the condition becomes False.\n"
      ],
      "metadata": {
        "id": "6dFbz3aeFcdr"
      }
    },
    {
      "cell_type": "markdown",
      "source": [
        "14. Describe a scenario where a while loop is more suitable than a for loop.\n",
        "    - Imagine you want to ask the user to enter a password, and you don't know how many attempts it will take for them to enter the correct one.\n"
      ],
      "metadata": {
        "id": "xVC1ckYnGqMA"
      }
    },
    {
      "cell_type": "markdown",
      "source": [
        "PRACTICAL QUESTIONS"
      ],
      "metadata": {
        "id": "H2v-PUyKHISN"
      }
    },
    {
      "cell_type": "code",
      "source": [
        "# 1. Write a Python program to print \"Hello, World!\n",
        "print(\"hello world\")\n"
      ],
      "metadata": {
        "colab": {
          "base_uri": "https://localhost:8080/"
        },
        "id": "6nvhIwKGHeYO",
        "outputId": "15db8cd0-a8e5-4cd2-b3f0-65416da6d9fb"
      },
      "execution_count": 1,
      "outputs": [
        {
          "output_type": "stream",
          "name": "stdout",
          "text": [
            "hello world\n"
          ]
        }
      ]
    },
    {
      "cell_type": "code",
      "source": [
        "# 2. Write a Python program that displays your name and age8\n",
        "name = \"seema\"\n",
        "age = 20\n",
        "\n",
        "print(\"name:\", name)\n",
        "print(\"age:\", age)\n"
      ],
      "metadata": {
        "colab": {
          "base_uri": "https://localhost:8080/"
        },
        "id": "iqt2uzHYHyTm",
        "outputId": "05fd7c41-00ab-4c7c-9581-9365a5cf9c32"
      },
      "execution_count": 4,
      "outputs": [
        {
          "output_type": "stream",
          "name": "stdout",
          "text": [
            "name: seema\n",
            "age: 20\n"
          ]
        }
      ]
    },
    {
      "cell_type": "code",
      "source": [
        "#3. Write code to print all the pre-defined keywords in Python using the keyword library8\n",
        "import keyword\n",
        "print(keyword.kwlist)"
      ],
      "metadata": {
        "colab": {
          "base_uri": "https://localhost:8080/"
        },
        "id": "R_icJfkdI3hT",
        "outputId": "19635466-6a8e-4ef5-bb49-1372874497ed"
      },
      "execution_count": 5,
      "outputs": [
        {
          "output_type": "stream",
          "name": "stdout",
          "text": [
            "['False', 'None', 'True', 'and', 'as', 'assert', 'async', 'await', 'break', 'class', 'continue', 'def', 'del', 'elif', 'else', 'except', 'finally', 'for', 'from', 'global', 'if', 'import', 'in', 'is', 'lambda', 'nonlocal', 'not', 'or', 'pass', 'raise', 'return', 'try', 'while', 'with', 'yield']\n"
          ]
        }
      ]
    },
    {
      "cell_type": "code",
      "source": [
        "#4. Write a program that checks if a given word is a Python keyword.\n",
        "word = input(\"Enter a word to check if it is a Python keyword: \")\n",
        "if keyword.iskeyword(word):\n",
        "    print(f\"'{word}' is a Python keyword.\")\n",
        "else:\n",
        "    print(f\"'{word}' is NOT a Python keyword.\")\n"
      ],
      "metadata": {
        "colab": {
          "base_uri": "https://localhost:8080/"
        },
        "id": "3NWC-ONZJKwD",
        "outputId": "0458531e-dc50-4ca8-b398-03c5be92a59a"
      },
      "execution_count": 6,
      "outputs": [
        {
          "output_type": "stream",
          "name": "stdout",
          "text": [
            "Enter a word to check if it is a Python keyword: seema\n",
            "'seema' is NOT a Python keyword.\n"
          ]
        }
      ]
    },
    {
      "cell_type": "code",
      "source": [
        "# 5. Create a list and tuple in Python, and demonstrate how attempting to change an element works differently for each\n",
        "my_list = [1, 2, 3]\n",
        "print(\"Original list:\", my_list)\n",
        "my_list[0] = 10\n",
        "print(\"Modified list:\", my_list)\n",
        "\n",
        "my_tuple = (1, 2, 3)\n",
        "print(\"Original tuple:\", my_tuple)\n",
        "my_tuple[0] = 10\n",
        "\n"
      ],
      "metadata": {
        "colab": {
          "base_uri": "https://localhost:8080/",
          "height": 245
        },
        "id": "EfG3H55GJqvX",
        "outputId": "1edf6aa7-e7a8-464f-8da2-a8fbdb466463"
      },
      "execution_count": 8,
      "outputs": [
        {
          "output_type": "stream",
          "name": "stdout",
          "text": [
            "Original list: [1, 2, 3]\n",
            "Modified list: [10, 2, 3]\n",
            "Original tuple: (1, 2, 3)\n"
          ]
        },
        {
          "output_type": "error",
          "ename": "TypeError",
          "evalue": "'tuple' object does not support item assignment",
          "traceback": [
            "\u001b[0;31m---------------------------------------------------------------------------\u001b[0m",
            "\u001b[0;31mTypeError\u001b[0m                                 Traceback (most recent call last)",
            "\u001b[0;32m/tmp/ipython-input-4093607182.py\u001b[0m in \u001b[0;36m<cell line: 0>\u001b[0;34m()\u001b[0m\n\u001b[1;32m      7\u001b[0m \u001b[0mmy_tuple\u001b[0m \u001b[0;34m=\u001b[0m \u001b[0;34m(\u001b[0m\u001b[0;36m1\u001b[0m\u001b[0;34m,\u001b[0m \u001b[0;36m2\u001b[0m\u001b[0;34m,\u001b[0m \u001b[0;36m3\u001b[0m\u001b[0;34m)\u001b[0m\u001b[0;34m\u001b[0m\u001b[0;34m\u001b[0m\u001b[0m\n\u001b[1;32m      8\u001b[0m \u001b[0mprint\u001b[0m\u001b[0;34m(\u001b[0m\u001b[0;34m\"Original tuple:\"\u001b[0m\u001b[0;34m,\u001b[0m \u001b[0mmy_tuple\u001b[0m\u001b[0;34m)\u001b[0m\u001b[0;34m\u001b[0m\u001b[0;34m\u001b[0m\u001b[0m\n\u001b[0;32m----> 9\u001b[0;31m \u001b[0mmy_tuple\u001b[0m\u001b[0;34m[\u001b[0m\u001b[0;36m0\u001b[0m\u001b[0;34m]\u001b[0m \u001b[0;34m=\u001b[0m \u001b[0;36m10\u001b[0m\u001b[0;34m\u001b[0m\u001b[0;34m\u001b[0m\u001b[0m\n\u001b[0m\u001b[1;32m     10\u001b[0m \u001b[0;34m\u001b[0m\u001b[0m\n",
            "\u001b[0;31mTypeError\u001b[0m: 'tuple' object does not support item assignment"
          ]
        }
      ]
    },
    {
      "cell_type": "code",
      "source": [
        "# 7. Write a program that performs basic arithmetic operations on two user-input numbers.\n",
        "num1 = float(input(\"Enter the first number: \"))\n",
        "num2 = float(input(\"Enter the second number: \"))\n",
        "\n",
        "addition = num1 + num2\n",
        "subtraction = num1 - num2\n",
        "multiplication = num1 * num2\n",
        "\n",
        "if num2 != 0:\n",
        "    division = num1 / num2\n",
        "    modulus = num1 % num2\n",
        "\n",
        "else:\n",
        "    division = \"Undefined (division by zero)\"\n",
        "    modulus = \"Undefined (division by zero)\"\n",
        "\n",
        "exponent = num1 ** num2\n",
        "\n",
        "print(\"\\nResults:\")\n",
        "print(f\"{num1} + {num2} = {addition}\")\n",
        "print(f\"{num1} - {num2} = {subtraction}\")\n",
        "print(f\"{num1} * {num2} = {multiplication}\")\n",
        "print(f\"{num1} / {num2} = {division}\")\n",
        "print(f\"{num1} % {num2} = {modulus}\")\n",
        "print(f\"{num1} ** {num2} = {exponent}\")\n",
        "\n"
      ],
      "metadata": {
        "colab": {
          "base_uri": "https://localhost:8080/"
        },
        "id": "-2Ypx42qOAXl",
        "outputId": "9eb64917-dfd0-459b-ced7-7f2b4591f790"
      },
      "execution_count": 9,
      "outputs": [
        {
          "output_type": "stream",
          "name": "stdout",
          "text": [
            "Enter the first number: 5\n",
            "Enter the second number: 6\n",
            "\n",
            "Results:\n",
            "5.0 + 6.0 = 11.0\n",
            "5.0 - 6.0 = -1.0\n",
            "5.0 * 6.0 = 30.0\n",
            "5.0 / 6.0 = 0.8333333333333334\n",
            "5.0 % 6.0 = 5.0\n",
            "5.0 ** 6.0 = 15625.0\n"
          ]
        }
      ]
    },
    {
      "cell_type": "code",
      "source": [
        "#8. Write a program to demonstrate the use of logical operators.\n",
        "\n",
        "age = int(input(\"Enter your age: \"))\n",
        "has_id = input(\"Do you have an ID? (yes/no): \").lower()\n",
        "\n",
        "# \"and\" operator\n",
        "\n",
        "if age >= 18 and has_id == \"yes\":\n",
        "    print(\"You are allowed to enter.\")\n",
        "else:\n",
        "    print(\"You are not allowed to enter.\")\n",
        "\n",
        "# \"or\" operator\n",
        "\n",
        "if age >= 65 or age <= 12:\n",
        "    print(\"You are eligible for a discount.\")\n",
        "else:\n",
        "    print(\"You are not eligible for a discount.\")\n",
        "\n",
        "\n",
        "# \"not\" operator\n",
        "\n",
        "if not has_id == \"yes\":\n",
        "    print(\"Please carry your ID next time.\")\n",
        "\n",
        "\n"
      ],
      "metadata": {
        "colab": {
          "base_uri": "https://localhost:8080/"
        },
        "id": "mzKpr7RrY22K",
        "outputId": "2c0ba5a3-8802-4a4e-b390-c30479454e88"
      },
      "execution_count": 10,
      "outputs": [
        {
          "output_type": "stream",
          "name": "stdout",
          "text": [
            "Enter your age: 21\n",
            "Do you have an ID? (yes/no): yes\n",
            "You are allowed to enter.\n",
            "You are not eligible for a discount.\n"
          ]
        }
      ]
    },
    {
      "cell_type": "code",
      "source": [
        "# 9. Write a Python program to convert user input from string to integer, float, and boolean types.\n",
        "\n",
        "user_input = input(\"Enter something: \")\n",
        "\n",
        " #covert into integer\n",
        "\n",
        "try:\n",
        "   int_value = int(user_input)\n",
        "   print(\"Integer:\", int_value)\n",
        "except ValueError:\n",
        "    print(\"Cannot convert to integer\")\n",
        "\n",
        "#convert into float\n",
        "\n",
        "try:\n",
        "    float_value = float(user_input)\n",
        "    print(\"Float:\", float_value)\n",
        "except ValueError:\n",
        "    print(\"Cannot convert to float\")\n",
        "\n",
        "#convert into boolean\n",
        "\n",
        "bool_value = bool(user_input)\n",
        "print(\"Boolean:\", bool_value)\n",
        "\n",
        "\n",
        "\n",
        "\n",
        "\n"
      ],
      "metadata": {
        "colab": {
          "base_uri": "https://localhost:8080/"
        },
        "id": "nWrwTWNxaj1D",
        "outputId": "22480fa5-dbe4-464e-c0f1-67b94b632d34"
      },
      "execution_count": 11,
      "outputs": [
        {
          "output_type": "stream",
          "name": "stdout",
          "text": [
            "Enter something: 43\n",
            "Integer: 43\n",
            "Float: 43.0\n",
            "Boolean: True\n"
          ]
        }
      ]
    },
    {
      "cell_type": "code",
      "source": [
        "# 10. Write code to demonstrate type casting with list elements.\n",
        "\n",
        "str_list = [\"10\", \"20\"]\n",
        "\n",
        "print(\"Original list (strings):\", str_list)\n",
        "print(\"Types:\", [type(x) for x in str_list])\n",
        "\n",
        "# Convert each element to integer\n",
        "\n",
        "int_list = [int(x) for x in str_list]\n",
        "print(\"\\nConverted to integers:\", int_list)\n",
        "print(\"Types:\", [type(x) for x in int_list])\n",
        "\n",
        "# Convert each element to float\n",
        "\n",
        "float_list = [float(x) for x in str_list]\n",
        "print(\"\\nConverted to floats:\", float_list)\n",
        "print(\"Types:\", [type(x) for x in float_list])\n",
        "\n",
        "# Convert integers back to string\n",
        "\n",
        "float_list = [float(x) for x in str_list]\n",
        "print(\"\\nConverted to floats:\", float_list)\n",
        "print(\"Types:\", [type(x) for x in float_list])\n",
        "\n",
        "# Convert integers back to string\n",
        "\n",
        "str_from_int = [str(x) for x in int_list]\n",
        "print(\"\\nConverted back to strings:\", str_from_int)\n",
        "print(\"Types:\", [type(x) for x in str_from_int])\n",
        "\n",
        "\n",
        "\n",
        "\n",
        "\n",
        "\n"
      ],
      "metadata": {
        "colab": {
          "base_uri": "https://localhost:8080/"
        },
        "id": "bupbIvFLdF4H",
        "outputId": "40cf628d-5227-4dff-c5fa-dfe763951c74"
      },
      "execution_count": 13,
      "outputs": [
        {
          "output_type": "stream",
          "name": "stdout",
          "text": [
            "Original list (strings): ['10', '20']\n",
            "Types: [<class 'str'>, <class 'str'>]\n",
            "\n",
            "Converted to integers: [10, 20]\n",
            "Types: [<class 'int'>, <class 'int'>]\n",
            "\n",
            "Converted to floats: [10.0, 20.0]\n",
            "Types: [<class 'float'>, <class 'float'>]\n",
            "\n",
            "Converted to floats: [10.0, 20.0]\n",
            "Types: [<class 'float'>, <class 'float'>]\n",
            "\n",
            "Converted back to strings: ['10', '20']\n",
            "Types: [<class 'str'>, <class 'str'>]\n"
          ]
        }
      ]
    },
    {
      "cell_type": "code",
      "source": [
        "#11. Write a program that checks if a number is positive, negative, or zero.\n",
        "num = float(input(\"Enter a number: \"))\n",
        "\n",
        "if num > 0:\n",
        "    print(\"The number is positive.\")\n",
        "elif num < 0:\n",
        "    print(\"The number is negative.\")\n",
        "else:\n",
        "    print(\"The number is zero.\")"
      ],
      "metadata": {
        "colab": {
          "base_uri": "https://localhost:8080/"
        },
        "id": "e83eyWwJz89I",
        "outputId": "51b0d53f-3f35-4132-be15-381cda59c7b7"
      },
      "execution_count": 14,
      "outputs": [
        {
          "output_type": "stream",
          "name": "stdout",
          "text": [
            "Enter a number: 7\n",
            "The number is positive.\n"
          ]
        }
      ]
    },
    {
      "cell_type": "code",
      "source": [
        "#12. Write a for loop to print numbers from 1 to 10.\n",
        "for i in range(1, 11):\n",
        "    print(i)\n"
      ],
      "metadata": {
        "colab": {
          "base_uri": "https://localhost:8080/"
        },
        "id": "fVwcdCQB_6OH",
        "outputId": "45eccb0f-bb85-4cca-fc85-53e96a73875a"
      },
      "execution_count": 15,
      "outputs": [
        {
          "output_type": "stream",
          "name": "stdout",
          "text": [
            "1\n",
            "2\n",
            "3\n",
            "4\n",
            "5\n",
            "6\n",
            "7\n",
            "8\n",
            "9\n",
            "10\n"
          ]
        }
      ]
    },
    {
      "cell_type": "code",
      "source": [
        "# 13. Write a Python program to find the sum of all even numbers between 1 and 50.\n",
        "\n",
        "total = 0\n",
        "\n",
        "for i in range(1, 51):\n",
        "    if i % 2 == 0:\n",
        "        total += i\n",
        "\n",
        "print(\"Sum of even numbers from 1 to 50 is:\", total)\n"
      ],
      "metadata": {
        "colab": {
          "base_uri": "https://localhost:8080/"
        },
        "id": "hTlyYetCGESq",
        "outputId": "2aec6f29-4b16-44f9-85d5-3b543634add8"
      },
      "execution_count": 16,
      "outputs": [
        {
          "output_type": "stream",
          "name": "stdout",
          "text": [
            "Sum of even numbers from 1 to 50 is: 650\n"
          ]
        }
      ]
    },
    {
      "cell_type": "code",
      "source": [
        "#14. Write a program to reverse a string using a while loop.\n",
        "\n",
        "text = input(\"Enter a string: \")\n",
        "reversed_text = \"\"\n",
        "i = len(text) - 1\n",
        "\n",
        "while i >= 0:\n",
        "    reversed_text += text[i]\n",
        "    i -= 1\n",
        "\n",
        "print(\"Reversed string:\", reversed_text)\n"
      ],
      "metadata": {
        "colab": {
          "base_uri": "https://localhost:8080/"
        },
        "id": "H8k4QsHBGq8-",
        "outputId": "8ec41654-5ca2-4ff1-91d2-077466ee6da8"
      },
      "execution_count": 17,
      "outputs": [
        {
          "output_type": "stream",
          "name": "stdout",
          "text": [
            "Enter a string: seema\n",
            "Reversed string: amees\n"
          ]
        }
      ]
    },
    {
      "cell_type": "code",
      "source": [
        "#15. Write a Python program to calculate the factorial of a number provided by the user using a while loop.\n",
        "\n",
        "num = int(input(\"Enter a number: \"))\n",
        "\n",
        "# Initialize variables\n",
        "factorial = 1\n",
        "i = 1\n",
        "\n",
        "# Calculate factorial\n",
        "while i <= num:\n",
        "    factorial *= i\n",
        "    i += 1\n",
        "\n",
        "print(f\"Factorial of {num} is: {factorial}\")"
      ],
      "metadata": {
        "colab": {
          "base_uri": "https://localhost:8080/"
        },
        "id": "i1aDEMLwIHZ7",
        "outputId": "e273e79f-5e7a-4357-e8ea-eb04d0094be0"
      },
      "execution_count": 18,
      "outputs": [
        {
          "output_type": "stream",
          "name": "stdout",
          "text": [
            "Enter a number: 5\n",
            "Factorial of 5 is: 120\n"
          ]
        }
      ]
    }
  ]
}